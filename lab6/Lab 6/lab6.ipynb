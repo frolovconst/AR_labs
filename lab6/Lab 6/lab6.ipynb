{
 "cells": [
  {
   "cell_type": "code",
   "execution_count": 7,
   "metadata": {
    "collapsed": true
   },
   "outputs": [],
   "source": [
    "from numpy.random import randint\n",
    "import numpy as np"
   ]
  },
  {
   "cell_type": "code",
   "execution_count": 2,
   "metadata": {
    "collapsed": true
   },
   "outputs": [],
   "source": [
    "def generate_formula(k, n, v):\n",
    "    '''\n",
    "    Generate boolean formula in conjunctive normal form.\n",
    "    :param k: number of literals in clause\n",
    "    :param n: number of clauses\n",
    "    :param v: number of variables\n",
    "    :return: Lists of lists. Each smaller list means the clause.\n",
    "    Value represents variable index, negative value means a negation of the value.\n",
    "    '''\n",
    "    formula = []\n",
    "    for i in range(n):\n",
    "        clause = []\n",
    "        for j in range(k):\n",
    "            literal = randint(1, v+1)\n",
    "            negative = randint(2)\n",
    "            if negative:\n",
    "                literal = -literal\n",
    "            clause.append(literal)\n",
    "        formula.append(clause)\n",
    "    return formula"
   ]
  },
  {
   "cell_type": "code",
   "execution_count": 9,
   "metadata": {},
   "outputs": [],
   "source": [
    "fla = generate_formula(2, 3, 5)"
   ]
  },
  {
   "cell_type": "code",
   "execution_count": 10,
   "metadata": {},
   "outputs": [
    {
     "data": {
      "text/plain": [
       "[[1, -4], [1, 1], [2, -4]]"
      ]
     },
     "execution_count": 10,
     "metadata": {},
     "output_type": "execute_result"
    }
   ],
   "source": [
    "fla"
   ]
  },
  {
   "cell_type": "code",
   "execution_count": 22,
   "metadata": {},
   "outputs": [
    {
     "data": {
      "text/plain": [
       "array([[1, 4],\n",
       "       [1, 1],\n",
       "       [2, 4]])"
      ]
     },
     "execution_count": 22,
     "metadata": {},
     "output_type": "execute_result"
    }
   ],
   "source": [
    "np.abs(fla)"
   ]
  },
  {
   "cell_type": "code",
   "execution_count": 21,
   "metadata": {},
   "outputs": [
    {
     "data": {
      "text/plain": [
       "0"
      ]
     },
     "execution_count": 21,
     "metadata": {},
     "output_type": "execute_result"
    }
   ],
   "source": [
    "0 & 1"
   ]
  },
  {
   "cell_type": "code",
   "execution_count": 15,
   "metadata": {},
   "outputs": [
    {
     "data": {
      "text/plain": [
       "array([ True, False,  True,  True,  True], dtype=bool)"
      ]
     },
     "execution_count": 15,
     "metadata": {},
     "output_type": "execute_result"
    }
   ],
   "source": [
    "np.random.choice(s_ar, 5)"
   ]
  },
  {
   "cell_type": "code",
   "execution_count": 38,
   "metadata": {
    "collapsed": true
   },
   "outputs": [],
   "source": [
    "def evaluate_clause(cl):\n",
    "    return max(cl)==1"
   ]
  },
  {
   "cell_type": "code",
   "execution_count": 123,
   "metadata": {
    "collapsed": true
   },
   "outputs": [],
   "source": [
    "def solve_sat(formula, m):\n",
    "    '''\n",
    "    Randomized SAT implementation.\n",
    "    :param formula: formula in generate_formula function result format\n",
    "    :param m: Maximum number of iterations\n",
    "    :return: boolean valuse - formula satisfiability\n",
    "    '''\n",
    "    # %%% START YOUR CODE HERE %%%\n",
    "#     pass\n",
    "    s_ar = np.array([-1, 1], dtype=np.int8)\n",
    "    v = np.abs(formula).max()\n",
    "    init = np.random.choice(s_ar, v)\n",
    "    print(formula)\n",
    "    print(init)\n",
    "    for i in range(m):\n",
    "        sat=True\n",
    "        for row in formula:\n",
    "            clause = [np.sign(i)*init[np.abs(i)-1] for i in row]\n",
    "            if(not evaluate_clause(clause)):\n",
    "                init[np.abs(np.random.choice(row,1))-1] *= -1\n",
    "                sat=False\n",
    "                break\n",
    "        if sat==True:\n",
    "            return init\n",
    "    print('Failed')\n",
    "    # %%% END YOUR CODE HERE %%%"
   ]
  },
  {
   "cell_type": "code",
   "execution_count": 137,
   "metadata": {},
   "outputs": [
    {
     "name": "stdout",
     "output_type": "stream",
     "text": [
      "[[1, -4], [1, 1], [2, -4]]\n",
      "[-1  1 -1  1]\n",
      "Failed\n"
     ]
    }
   ],
   "source": [
    "solve_sat(fla,2)"
   ]
  },
  {
   "cell_type": "code",
   "execution_count": 30,
   "metadata": {},
   "outputs": [
    {
     "data": {
      "text/plain": [
       "1"
      ]
     },
     "execution_count": 30,
     "metadata": {},
     "output_type": "execute_result"
    }
   ],
   "source": [
    "np.sign(1)"
   ]
  }
 ],
 "metadata": {
  "kernelspec": {
   "display_name": "Python 3",
   "language": "python",
   "name": "python3"
  },
  "language_info": {
   "codemirror_mode": {
    "name": "ipython",
    "version": 3
   },
   "file_extension": ".py",
   "mimetype": "text/x-python",
   "name": "python",
   "nbconvert_exporter": "python",
   "pygments_lexer": "ipython3",
   "version": "3.6.1"
  }
 },
 "nbformat": 4,
 "nbformat_minor": 2
}
