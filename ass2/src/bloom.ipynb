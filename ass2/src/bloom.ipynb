{
 "cells": [
  {
   "cell_type": "code",
   "execution_count": 4,
   "metadata": {
    "collapsed": true
   },
   "outputs": [],
   "source": [
    "from bitarray import bitarray\n",
    "from math import ceil, log, log2, e\n",
    "from hashes import generate_hashes"
   ]
  },
  {
   "cell_type": "code",
   "execution_count": 47,
   "metadata": {
    "collapsed": true
   },
   "outputs": [],
   "source": [
    "class BloomFilter:\n",
    "    container = None\n",
    "    n_hashes = 1\n",
    "    added = 0\n",
    "    capacity = 0\n",
    "    types = None\n",
    "    hash_transforms = []\n",
    "    N = 0\n",
    "\n",
    "    def __init__(self, expected_n_elements, desired_fpp, work_load=.95, types='numerical'):\n",
    "        \"\"\"\n",
    "        Initializes Bloom Filter\n",
    "        :param expected_n_elements:\n",
    "        :param desired_fpp:\n",
    "        :param work_load: determines occupied space in filter\n",
    "        :param types: types supported by the filter. Possible values ['numerical','string']\n",
    "        \"\"\"\n",
    "\n",
    "        # Calculate the capacity of the filter, i.e. the total number of\n",
    "        # elements that can fit.\n",
    "#         capacity = ceil((log2(e) * log2(desired_fpp**-1)) * expected_n_elements / work_load)\n",
    "        capacity = ceil(expected_n_elements / work_load)\n",
    "#         print('cap=', capacity)\n",
    "\n",
    "        # Calculate the number of bits required to store one element\n",
    "        bpe = ceil(log2(e) * log2(desired_fpp**-1))\n",
    "        s_complexity = bpe\n",
    "#         self.aux_bpe = ((log2(e) * log2(desired_fpp**-1)) * expected_n_elements / work_load)/(log2(e) * log2(desired_fpp**-1))\n",
    "\n",
    "        # Calculate the number of hashes that minimizes FPP for given\n",
    "        # number of bits per entry\n",
    "        self.N = ceil((log2(e) * log2(desired_fpp**-1)) * expected_n_elements / work_load)\n",
    "        n_hashes = ceil(log(2) * self.N / expected_n_elements)\n",
    "#         print('n_hashes =', n_hashes)\n",
    "\n",
    "        self.n_hashes = n_hashes\n",
    "        self.capacity = capacity\n",
    "        self.hash_transforms = generate_hashes(n_hashes, types)\n",
    "\n",
    "#         self.container = bitarray(s_complexity) - originally\n",
    "        self.container = bitarray(self.N)\n",
    "        self.container.setall(0)\n",
    "\n",
    "    def add(self, item):\n",
    "        \"\"\"\n",
    "        Adds an element or a list of elements in the filter. Do not check\n",
    "        whether the list is longer than filter capacity.\n",
    "        :param item: item or list of items to add\n",
    "        :return: None\n",
    "        \"\"\"\n",
    "        # create behavior similar to set()\n",
    "        if isinstance(item, list):\n",
    "            for i in item:\n",
    "                self.add_item(i)\n",
    "        else:\n",
    "            self.add_item(item)\n",
    "\n",
    "    def add_item(self, item):\n",
    "        \"\"\"\n",
    "        Adding an item to the filter\n",
    "        :param item:\n",
    "        :return: None\n",
    "        \"\"\"\n",
    "        # use the set of hash transforms self.hash_transforms\n",
    "        # to calculate item hashes.\n",
    "        # Obtain the keys from range [0, filter size]\n",
    "        # using operator '%'\n",
    "\n",
    "        # %%% ADD YOUR CODE %%%\n",
    "        for h_func in self.hash_transforms:\n",
    "            self.container[h_func(item) % self.N] = '1'\n",
    "#             print(h_func(item) % self.capacity)\n",
    "#         print(self.container)\n",
    "        # %%%%%%\n",
    "\n",
    "        if self.added < self.capacity:\n",
    "            self.added += 1\n",
    "\n",
    "    def __contains__(self, item):\n",
    "        \"\"\"\n",
    "        Perform a membership test\n",
    "        :param item:\n",
    "        :return: membership test result\n",
    "        \"\"\"\n",
    "        # use the set of hash transforms self.hash_transforms\n",
    "        # to calculate item hashes.\n",
    "        # Obtain the keys from range [0, filter size]\n",
    "        # using operator '%'\n",
    "\n",
    "        # %%% ADD YOUR CODE %%%\n",
    "        res = True\n",
    "#         print(self.container)\n",
    "        for h_func in self.hash_transforms:\n",
    "            if self.container[h_func(item) % self.N] == 0:\n",
    "                res = False\n",
    "                break\n",
    "        # %%%%%%\n",
    "\n",
    "        return res\n",
    "\n",
    "    def current_fpp(self):\n",
    "        \"\"\"\n",
    "        Calculate the current probability of false positives based on\n",
    "        the number of currently added elements and the filter capacity\n",
    "        :return: probability of false positives\n",
    "        \"\"\"\n",
    "\n",
    "        # %%% ADD YOUR CODE %%%\n",
    "        FPP = (1-(1-self.N**-1)**(self.added*self.n_hashes))**self.n_hashes\n",
    "        # %%%%%%\n",
    "\n",
    "        return FPP"
   ]
  },
  {
   "cell_type": "code",
   "execution_count": null,
   "metadata": {
    "collapsed": true
   },
   "outputs": [],
   "source": [
    "from numpy.random import randint\n",
    "from numpy import array, random\n",
    "import matplotlib.pyplot as plt\n",
    "\n",
    "random.seed(1)"
   ]
  },
  {
   "cell_type": "code",
   "execution_count": null,
   "metadata": {
    "collapsed": true
   },
   "outputs": [],
   "source": [
    "expected = 30\n",
    "d_FPP = .01\n",
    "trials = 100\n",
    "elements_to_add = int(expected * 1.3)\n",
    "added_elements = set()"
   ]
  },
  {
   "cell_type": "code",
   "execution_count": 48,
   "metadata": {},
   "outputs": [
    {
     "name": "stdout",
     "output_type": "stream",
     "text": [
      "5.6908848911115304e-05\n"
     ]
    }
   ],
   "source": [
    "bf = BloomFilter(expected_n_elements=10, desired_fpp=.05)\n",
    "bf.add_item(5)\n",
    "bf.add_item(1)\n",
    "# bf.add_item(2)\n",
    "# bf.add_item(23)\n",
    "# bf.add_item(25)\n",
    "# bf.add_item(26)\n",
    "# bf.add_item(26)\n",
    "bf.__contains__(1)\n",
    "print(bf.current_fpp())"
   ]
  },
  {
   "cell_type": "code",
   "execution_count": 49,
   "metadata": {},
   "outputs": [],
   "source": [
    "bf = BloomFilter(expected_n_elements=10, desired_fpp=.05)\n",
    "assert 1 not in bf\n",
    "bf.add(1)\n",
    "assert bf.n_hashes == 5\n",
    "assert bf.capacity == 11\n",
    "assert 1 in bf"
   ]
  },
  {
   "cell_type": "code",
   "execution_count": null,
   "metadata": {
    "collapsed": true
   },
   "outputs": [],
   "source": []
  }
 ],
 "metadata": {
  "kernelspec": {
   "display_name": "Python 3",
   "language": "python",
   "name": "python3"
  },
  "language_info": {
   "codemirror_mode": {
    "name": "ipython",
    "version": 3
   },
   "file_extension": ".py",
   "mimetype": "text/x-python",
   "name": "python",
   "nbconvert_exporter": "python",
   "pygments_lexer": "ipython3",
   "version": "3.6.3"
  }
 },
 "nbformat": 4,
 "nbformat_minor": 2
}
