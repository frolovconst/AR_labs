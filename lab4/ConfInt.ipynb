{
 "cells": [
  {
   "cell_type": "code",
   "execution_count": 130,
   "metadata": {
    "collapsed": true
   },
   "outputs": [],
   "source": [
    "import numpy as np\n",
    "import matplotlib.pyplot as plt\n",
    "from scipy.stats import norm, triang"
   ]
  },
  {
   "cell_type": "markdown",
   "metadata": {},
   "source": [
    "# Sigma theoretical vs. empirical"
   ]
  },
  {
   "cell_type": "code",
   "execution_count": 116,
   "metadata": {},
   "outputs": [
    {
     "data": {
      "image/png": "[encoded data removed]",
      "text/plain": [
       "<matplotlib.figure.Figure at 0x7f061f6ae080>"
      ]
     },
     "metadata": {},
     "output_type": "display_data"
    }
   ],
   "source": [
    "N = 50\n",
    "Navg = 20\n",
    "samples = np.random.rand(N, Navg)\n",
    "means = samples.mean(axis=1)\n",
    "sigmaThr = (1/12/Navg)**.5\n",
    "meanMn = means.mean()\n",
    "sigmaMn = means.std()/(N-1)*N\n",
    "\n",
    "x = np.linspace(0,1,100)\n",
    "y = norm.pdf(x,meanMn, sigmaThr)\n",
    "y_exp = norm.pdf(x,meanMn, sigmaMn)\n",
    "plt.hist(means, density=True)\n",
    "plt.plot(x,y, label='theory')\n",
    "plt.plot(x,y_exp, label='experiment')\n",
    "plt.legend()\n",
    "plt.show()"
   ]
  },
  {
   "cell_type": "markdown",
   "metadata": {},
   "source": [
    "# Estimated confidence interval"
   ]
  },
  {
   "cell_type": "code",
   "execution_count": 53,
   "metadata": {
    "collapsed": true
   },
   "outputs": [],
   "source": [
    "N = 10\n",
    "Navg = 20\n",
    "samples = np.random.rand(N, Navg)\n",
    "means = samples.mean(axis=1)\n",
    "sigmaThr = (1/12/Navg)**.5\n",
    "meanMn = means.mean()\n",
    "sigmaMn = means.std()/(N-1)*N"
   ]
  },
  {
   "cell_type": "code",
   "execution_count": 54,
   "metadata": {},
   "outputs": [
    {
     "name": "stdout",
     "output_type": "stream",
     "text": [
      "1. 0.35918649360913\t-\t0.612221405561348\n",
      "2. 0.4085358268166336\t-\t0.6615707387688515\n",
      "3. 0.327889430762494\t-\t0.5809243427147118\n",
      "4. 0.339857291737067\t-\t0.592892203689285\n",
      "5. 0.4735505383034385\t-\t0.7265854502556565\n",
      "6. 0.4431565196211893\t-\t0.6961914315734072\n",
      "7. 0.3972017269018072\t-\t0.6502366388540252\n",
      "8. 0.43155092277560836\t-\t0.6845858347278263\n",
      "9. 0.4141120761927959\t-\t0.6671469881450138\n",
      "10. 0.39967122410641587\t-\t0.6527061360586338\n"
     ]
    }
   ],
   "source": [
    "for i in range(N):\n",
    "    print('{}. {}\\t-\\t{}'.format(i+1, samples[i].mean()- 1.96*sigmaThr, samples[i].mean() + 1.96*sigmaThr))"
   ]
  },
  {
   "cell_type": "markdown",
   "metadata": {},
   "source": [
    "# Confidence interval over N samples"
   ]
  },
  {
   "cell_type": "code",
   "execution_count": 55,
   "metadata": {},
   "outputs": [
    {
     "name": "stdout",
     "output_type": "stream",
     "text": [
      "0.4309925997793199 - 0.620984722338214\n"
     ]
    }
   ],
   "source": [
    "lb = meanMn - 1.96*sigmaMn\n",
    "ub = meanMn + 1.96*sigmaMn\n",
    "print('{} - {}'.format( lb, ub))"
   ]
  },
  {
   "cell_type": "markdown",
   "metadata": {},
   "source": [
    "# Probability of mean value falling into the confidence interval"
   ]
  },
  {
   "cell_type": "code",
   "execution_count": 89,
   "metadata": {},
   "outputs": [
    {
     "name": "stdout",
     "output_type": "stream",
     "text": [
      "Probability = 0.948\n"
     ]
    }
   ],
   "source": [
    "N = 1000\n",
    "Navg = 20\n",
    "samples = np.random.rand(N, Navg)\n",
    "means = samples.mean(axis=1)\n",
    "meanMn = means.mean()\n",
    "sigmaMn = means.std()/(N-1)*N\n",
    "lb = meanMn - 1.96*sigmaMn\n",
    "ub = meanMn + 1.96*sigmaMn\n",
    "\n",
    "print('Probability =',means[(means<ub) & (means>lb)].size/means.size)"
   ]
  },
  {
   "cell_type": "markdown",
   "metadata": {},
   "source": [
    "# Triangular distribution"
   ]
  },
  {
   "cell_type": "code",
   "execution_count": 140,
   "metadata": {},
   "outputs": [],
   "source": [
    "N = 20\n",
    "Navg = 20\n",
    "a, b, c = 0, 1, .4\n",
    "samples_tri = np.random.triangular(a,c,b,(N,Navg))\n",
    "sigmaThr = ((a**2+b**2+c**2-a*b-a*c-b*c)/18/Navg)**.5\n",
    "means = samples_tri.mean(axis=1)\n",
    "meanMn = means.mean()\n",
    "sigmaMn = means.std()/(N-1)*N"
   ]
  },
  {
   "cell_type": "code",
   "execution_count": 141,
   "metadata": {},
   "outputs": [
    {
     "data": {
      "image/png": "[encoded data removed]",
      "text/plain": [
       "<matplotlib.figure.Figure at 0x7f061fecd8d0>"
      ]
     },
     "metadata": {},
     "output_type": "display_data"
    }
   ],
   "source": [
    "# plt.hist(samples_tri[0])\n",
    "\n",
    "\n",
    "x = np.linspace(0,1,100)\n",
    "y = norm.pdf(x,meanMn, sigmaThr)\n",
    "y_exp = norm.pdf(x,meanMn, sigmaMn)\n",
    "plt.hist(means, density=True)\n",
    "plt.plot(x,y, label='theory')\n",
    "plt.plot(x,y_exp, label='experiment')\n",
    "plt.legend()\n",
    "plt.show()"
   ]
  },
  {
   "cell_type": "markdown",
   "metadata": {},
   "source": [
    "# Probability of mean value falling into the confidence interval"
   ]
  },
  {
   "cell_type": "code",
   "execution_count": 201,
   "metadata": {},
   "outputs": [
    {
     "name": "stdout",
     "output_type": "stream",
     "text": [
      "Probability = 0.955\n"
     ]
    }
   ],
   "source": [
    "N = 1000\n",
    "Navg = 50\n",
    "a, b, c = 0, 1, .4\n",
    "samples_tri = np.random.triangular(a,c,b,(N,Navg))\n",
    "sigmaThr = ((a**2+b**2+c**2-a*b-a*c-b*c)/18/Navg)**.5\n",
    "means = samples_tri.mean(axis=1)\n",
    "meanMn = means.mean()\n",
    "sigmaMn = means.std()/(N-1)*N\n",
    "lb = meanMn - 1.96*sigmaMn\n",
    "ub = meanMn + 1.96*sigmaMn\n",
    "\n",
    "print('Probability =',means[(means<ub) & (means>lb)].size/means.size)"
   ]
  },
  {
   "cell_type": "markdown",
   "metadata": {},
   "source": [
    "The experinemts performed have indeed demonstrated the fact that the distribution of sample mean is always normal, regardless of the sample's distribution. For small samples, however, variance deviates significantly from its theoretical value, meaning that in such cases different empirical estimates should be used."
   ]
  },
  {
   "cell_type": "markdown",
   "metadata": {},
   "source": [
    "# Distribution of sample variance"
   ]
  },
  {
   "cell_type": "code",
   "execution_count": 209,
   "metadata": {},
   "outputs": [
    {
     "data": {
      "image/png": "[encoded data removed]",
      "text/plain": [
       "<matplotlib.figure.Figure at 0x7f061ff4fe10>"
      ]
     },
     "metadata": {},
     "output_type": "display_data"
    }
   ],
   "source": [
    "N = 1000\n",
    "Navg = 100\n",
    "n, p = 100, .5\n",
    "sigmaThr = (n*p*(1-p)/N)**.5\n",
    "samples_bin = np.random.binomial(n,p,(N,Navg))\n",
    "sigmas = samples_bin.std(axis=1)\n",
    "sigma_mean = sigmas.mean()\n",
    "sigma_std = sigmas.std()\n",
    "plt.hist(sigmas, density=True)\n",
    "x = np.linspace(sigma_mean-3*sigmaThr,sigma_mean+3*sigmaThr,100)\n",
    "y = norm.pdf(x,sigma_mean, sigmaThr)\n",
    "y_exp = norm.pdf(x,sigma_mean, sigma_std)\n",
    "plt.plot(x,y, label='theory')\n",
    "plt.plot(x,y_exp, label='experiment')\n",
    "plt.legend()\n",
    "plt.show()"
   ]
  },
  {
   "cell_type": "markdown",
   "metadata": {},
   "source": [
    "The graph illustrates that the distribution of sample variance is not normal (it's empirical density lying far beyond 3 standard deviations)."
   ]
  }
 ],
 "metadata": {
  "kernelspec": {
   "display_name": "Python 3",
   "language": "python",
   "name": "python3"
  },
  "language_info": {
   "codemirror_mode": {
    "name": "ipython",
    "version": 3
   },
   "file_extension": ".py",
   "mimetype": "text/x-python",
   "name": "python",
   "nbconvert_exporter": "python",
   "pygments_lexer": "ipython3",
   "version": "3.6.3"
  }
 },
 "nbformat": 4,
 "nbformat_minor": 2
}
