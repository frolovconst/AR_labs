{
 "cells": [
  {
   "cell_type": "code",
   "execution_count": 1,
   "metadata": {
    "collapsed": true
   },
   "outputs": [],
   "source": [
    "from numpy.random import seed, random, randint, choice\n",
    "from numpy import median, sort\n",
    "from misc import append_gauges, generate_figures, measure_time\n",
    "import numpy as np\n",
    "# from experiments import check_results, check_fails, check_time_performance\n",
    "from time import time\n",
    "import matplotlib.pyplot as plt\n",
    "seed(1)"
   ]
  },
  {
   "cell_type": "code",
   "execution_count": 91,
   "metadata": {},
   "outputs": [
    {
     "data": {
      "text/plain": [
       "744800"
      ]
     },
     "execution_count": 91,
     "metadata": {},
     "output_type": "execute_result"
    }
   ],
   "source": [
    "13300*56"
   ]
  },
  {
   "cell_type": "code",
   "execution_count": 98,
   "metadata": {
    "scrolled": false
   },
   "outputs": [
    {
     "data": {
      "image/png": "[encoded data removed]",
      "text/plain": [
       "<matplotlib.figure.Figure at 0x7f0ba9bb9908>"
      ]
     },
     "metadata": {},
     "output_type": "display_data"
    }
   ],
   "source": [
    "x=np.arange(1,50)\n",
    "# plt.plot(x, .5*x**.75-x**.5)\n",
    "plt.plot(x, x**.75*np.log2(x))\n",
    "plt.plot(x, x, color='r')\n",
    "plt.grid()\n",
    "plt.show()"
   ]
  },
  {
   "cell_type": "code",
   "execution_count": 2,
   "metadata": {
    "collapsed": true
   },
   "outputs": [],
   "source": [
    "def median_r(data):\n",
    "    '''\n",
    "    :param data:\n",
    "    :return: median element value\n",
    "    Implement randomized algorithm here\n",
    "    Use numpy.random.chose function to make a subset R\n",
    "    '''\n",
    "    # %%% START YOUR CODE HERE %%%\n",
    "    n = data.size\n",
    "    sub_n = int(n**.75)+1\n",
    "    subset = choice(data, sub_n)\n",
    "    subset.sort()\n",
    "    index_d = max(0,int(.5*n**.75-n**.5)-1)\n",
    "    d = subset[index_d]\n",
    "    index_u = min(int(.5*n**.75+n**.5)-1,int(n**.75))\n",
    "    u = subset[index_u]\n",
    "    \n",
    "    C = data[(data>=d) & (data<=u)] #.copy()\n",
    "    \n",
    "    \n",
    "    ld = data[data<d].size\n",
    "    lu = data[data>u].size\n",
    "    \n",
    "    if ld>n/2 or lu>n/2:\n",
    "        return None\n",
    "    Csize = C.size\n",
    "    if Csize <= 4*n**.75:\n",
    "        C.sort()\n",
    "        \n",
    "    else:\n",
    "        return None\n",
    "    mdn_idx = min(int(n/2 - ld), Csize-1)\n",
    "    return C[mdn_idx]\n",
    "    # %%% END YOUR CODE HERE %%%\n",
    "    \n",
    "\n",
    "def median_s(data):\n",
    "    sorted = sort(data)\n",
    "    return sorted[len(data) // 2]#, sorted[len(data)//2-1]\n"
   ]
  },
  {
   "cell_type": "code",
   "execution_count": 3,
   "metadata": {
    "scrolled": false
   },
   "outputs": [
    {
     "name": "stdout",
     "output_type": "stream",
     "text": [
      "[  4.17022005e-01   7.20324493e-01   1.14374817e-04   3.02332573e-01\n",
      "   1.46755891e-01   9.23385948e-02   1.86260211e-01   3.45560727e-01\n",
      "   3.96767474e-01   5.38816734e-01   4.19194514e-01   6.85219500e-01\n",
      "   2.04452250e-01   8.78117436e-01   2.73875932e-02   6.70467510e-01\n",
      "   4.17304802e-01   5.58689828e-01   1.40386939e-01   1.98101489e-01]\n",
      "[  4.17022005e-01   7.20324493e-01   1.14374817e-04   3.02332573e-01\n",
      "   1.46755891e-01   9.23385948e-02   1.86260211e-01   3.45560727e-01\n",
      "   3.96767474e-01   5.38816734e-01   4.19194514e-01   6.85219500e-01\n",
      "   2.04452250e-01   8.78117436e-01   2.73875932e-02   6.70467510e-01\n",
      "   4.17304802e-01   5.58689828e-01   1.40386939e-01   1.98101489e-01]\n"
     ]
    }
   ],
   "source": [
    "data = random(20)\n",
    "print(data)\n",
    "median_r(data)\n",
    "print(data)\n"
   ]
  },
  {
   "cell_type": "code",
   "execution_count": 6,
   "metadata": {},
   "outputs": [
    {
     "name": "stdout",
     "output_type": "stream",
     "text": [
      "0.396767474231\n",
      "0.371164100637\n"
     ]
    }
   ],
   "source": [
    "print(np.mean([median_s(data), median_s(data)]))\n",
    "print(np.median(data))"
   ]
  },
  {
   "cell_type": "code",
   "execution_count": 88,
   "metadata": {
    "collapsed": true
   },
   "outputs": [],
   "source": [
    "def check_results():\n",
    "    \"\"\"\n",
    "    This function checks that you are getting correct results.\n",
    "    Write your code here to calculate the number of different results\n",
    "    1) between randomized implementation and numpy median\n",
    "    2) between randomized implementation and sorting middle element\n",
    "    \"\"\"\n",
    "    sorting_vs_random = []\n",
    "    numpy_vs_random = []\n",
    "    sizes = randint(500000, size=10)*2-1\n",
    "\n",
    "    for size in sizes:\n",
    "        sorting_vs_random_on_size = 0\n",
    "        numpy_vs_random_on_size = 0\n",
    "        for i in range(100):\n",
    "            data = random(size)\n",
    "            # %%% START YOUR CODE HERE %%%\n",
    "#             while True:\n",
    "            rnd_res = median_r(data)\n",
    "            sort_res = median_s(data)\n",
    "            nmp_med = median(data)\n",
    "            if rnd_res == None:\n",
    "                sorting_vs_random_on_size += 1\n",
    "                numpy_vs_random_on_size += 1\n",
    "            else:\n",
    "                sorting_vs_random_on_size += (rnd_res!=sort_res)\n",
    "                numpy_vs_random_on_size += (rnd_res!=nmp_med)\n",
    "#             if size%2:\n",
    "                \n",
    "            # %%% END YOUR CODE HERE %%%\n",
    "        sorting_vs_random.append(sorting_vs_random_on_size)\n",
    "        numpy_vs_random.append(numpy_vs_random_on_size)\n",
    "    print(\"sorting vs random different results\", sorting_vs_random)\n",
    "    print(\"numpy vs random different results\", numpy_vs_random)\n",
    "\n",
    "\n",
    "def check_fails():\n",
    "    \"\"\"\n",
    "    This function checks how often randomized algorithm fails\n",
    "    \"\"\"\n",
    "    fails_number = []\n",
    "    sizes = []\n",
    "    for zeros in range(1,9):\n",
    "        size = 10**zeros\n",
    "        sizes.append(size)\n",
    "    for size in sizes:\n",
    "        fails_on_size = 0\n",
    "        for i in range(100):\n",
    "            data = random(size)\n",
    "            # %%% START YOUR CODE HERE %%%\n",
    "            rnd_res = median_r(data)\n",
    "            if rnd_res == None:\n",
    "                fails_on_size += 1\n",
    "            # %%% END YOUR CODE HERE %%%\n",
    "        fails_number.append(fails_on_size)\n",
    "    print(\"numbers of fails\", fails_number)\n",
    "\n",
    "\n",
    "def gauge_algorithms(data_size, repeats=100):\n",
    "    sorting_avg = 0.\n",
    "    np_avg = 0.\n",
    "    randomized_avg = 0.\n",
    "    count = 0\n",
    "    for i in range(repeats):\n",
    "        data = random(data_size)\n",
    "        \n",
    "        dur = time()\n",
    "        reslt = median_r(data)\n",
    "        randomized_avg += (reslt!=None)*(time()-dur)\n",
    "        count += reslt!=None\n",
    "        \n",
    "        dur = time()\n",
    "        reslt = median(data)\n",
    "        np_avg += time()-dur\n",
    "        \n",
    "        dur = time()\n",
    "        reslt = median_s(data)\n",
    "        sorting_avg += time()-dur\n",
    "        \n",
    "    return sorting_avg/repeats, np_avg/repeats, randomized_avg/count\n",
    "\n",
    "\n",
    "def check_time_performance():\n",
    "    sizes = []\n",
    "    for zeros in range(1,9):\n",
    "        size = 10**zeros\n",
    "        sizes.append(size)\n",
    "\n",
    "    gauges_collection = ([], [], [])\n",
    "    for size in sizes:\n",
    "        gauge = gauge_algorithms(size)\n",
    "        append_gauges(gauges_collection, gauge)\n",
    "    generate_figures(gauges_collection, \"size\", sizes)\n",
    "#     print('col=',gauges_collection)\n"
   ]
  },
  {
   "cell_type": "code",
   "execution_count": 83,
   "metadata": {},
   "outputs": [
    {
     "name": "stdout",
     "output_type": "stream",
     "text": [
      "numbers of fails [5, 1, 0, 0]\n"
     ]
    }
   ],
   "source": [
    "check_fails()"
   ]
  },
  {
   "cell_type": "code",
   "execution_count": 89,
   "metadata": {
    "scrolled": true
   },
   "outputs": [
    {
     "name": "stdout",
     "output_type": "stream",
     "text": [
      "sorting vs random different results [0, 0, 0, 0, 0, 0, 0, 0, 0, 0]\n",
      "numpy vs random different results [0, 0, 0, 0, 0, 0, 0, 0, 0, 0]\n",
      "numbers of fails [7, 1, 0, 0, 0, 0, 0, 0]\n",
      "sorting average time [5.474090576171875e-06, 7.295608520507813e-06, 4.214048385620117e-05, 0.0004909276962280273, 0.006080038547515869, 0.07485368967056275, 0.8841674375534058, 10.185598249435424]\n",
      "numpy average time [3.513813018798828e-05, 3.4415721893310546e-05, 5.061149597167969e-05, 0.00014810323715209962, 0.0010582375526428222, 0.011675102710723877, 0.12808300971984862, 1.2648700404167175]\n",
      "randomized average time [3.4515303794783774e-05, 3.6814212799072265e-05, 7.186651229858399e-05, 0.0003221368789672852, 0.0023229169845581056, 0.022955403327941895, 0.2088031554222107, 1.9678602313995361]\n",
      "total time in minutes 32\n"
     ]
    }
   ],
   "source": [
    "\n",
    "\n",
    "start = time()\n",
    "check_results()\n",
    "check_fails()\n",
    "check_time_performance()\n",
    "finish = time()\n",
    "\n",
    "print(\"total time in minutes\", int((finish - start) / 60))"
   ]
  },
  {
   "cell_type": "code",
   "execution_count": 103,
   "metadata": {
    "collapsed": true
   },
   "outputs": [],
   "source": [
    "x = np.geomspace(1,10000, 5)"
   ]
  },
  {
   "cell_type": "code",
   "execution_count": 104,
   "metadata": {},
   "outputs": [
    {
     "data": {
      "text/plain": [
       "array([  1.00000000e+00,   1.00000000e+01,   1.00000000e+02,\n",
       "         1.00000000e+03,   1.00000000e+04])"
      ]
     },
     "execution_count": 104,
     "metadata": {},
     "output_type": "execute_result"
    }
   ],
   "source": [
    "x[:10]"
   ]
  },
  {
   "cell_type": "code",
   "execution_count": 107,
   "metadata": {},
   "outputs": [
    {
     "data": {
      "image/png": "[encoded data removed]",
      "text/plain": [
       "<matplotlib.figure.Figure at 0x7f0baa03f3c8>"
      ]
     },
     "metadata": {},
     "output_type": "display_data"
    }
   ],
   "source": [
    "y = np.arange(5)\n",
    "plt.plot(x,y, color='b')\n",
    "plt.semilogx(x,y, color='r')\n",
    "plt.show()"
   ]
  },
  {
   "cell_type": "code",
   "execution_count": 114,
   "metadata": {},
   "outputs": [
    {
     "name": "stdout",
     "output_type": "stream",
     "text": [
      "sorting average time [  5.47409058e-06   7.29560852e-06   4.21404839e-05   4.90927696e-04\n",
      "   6.08003855e-03   7.48536897e-02   8.84167438e-01   1.01855982e+01]\n",
      "numpy average time [  3.51381302e-05   3.44157219e-05   5.06114960e-05   1.48103237e-04\n",
      "   1.05823755e-03   1.16751027e-02   1.28083010e-01   1.26487004e+00]\n",
      "randomized average time [  3.45153038e-05   3.68142128e-05   7.18665123e-05   3.22136879e-04\n",
      "   2.32291698e-03   2.29554033e-02   2.08803155e-01   1.96786023e+00]\n"
     ]
    },
    {
     "data": {
      "image/png": "[encoded data removed]",
      "text/plain": [
       "<matplotlib.figure.Figure at 0x7f0bc09af3c8>"
      ]
     },
     "metadata": {},
     "output_type": "display_data"
    }
   ],
   "source": [
    "    xrange = []\n",
    "    for zeros in range(1,9):\n",
    "        size = 10**zeros\n",
    "        xrange.append(size)\n",
    "    sorting_avg, np_avg, randomized_avg = np.array([5.474090576171875e-06, 7.295608520507813e-06, 4.214048385620117e-05, 0.0004909276962280273, 0.006080038547515869, 0.07485368967056275, 0.8841674375534058, 10.185598249435424]),np.array([3.513813018798828e-05, 3.4415721893310546e-05, 5.061149597167969e-05, 0.00014810323715209962, 0.0010582375526428222, 0.011675102710723877, 0.12808300971984862, 1.2648700404167175]),np.array([3.4515303794783774e-05, 3.6814212799072265e-05, 7.186651229858399e-05, 0.0003221368789672852, 0.0023229169845581056, 0.022955403327941895, 0.2088031554222107, 1.9678602313995361])\n",
    "    print(\"sorting average time\", sorting_avg)\n",
    "    print(\"numpy average time\", np_avg)\n",
    "    print(\"randomized average time\", randomized_avg)\n",
    "    plt.figure()\n",
    "    plt.semilogx(xrange, sorting_avg, label=\"Sorting\")\n",
    "    plt.semilogx(xrange, np_avg, label=\"Numpy\")\n",
    "    plt.semilogx(xrange, randomized_avg, label=\"Randomized\")\n",
    "    plt.ylabel(\"Time, s\")\n",
    "    plt.xlabel('Size')\n",
    "    plt.grid(True)\n",
    "    plt.legend()\n",
    "    plt.show()"
   ]
  },
  {
   "cell_type": "code",
   "execution_count": 87,
   "metadata": {
    "scrolled": true
   },
   "outputs": [
    {
     "name": "stdout",
     "output_type": "stream",
     "text": [
      "sorting vs random different results [0, 0, 0, 0, 0, 0, 0, 0, 0, 0]\n",
      "numpy vs random different results [0, 0, 0, 0, 0, 0, 0, 0, 0, 0]\n",
      "numbers of fails [5, 0, 0, 0, 0, 0, 0, 0]\n",
      "sorting average time [6.535053253173828e-06, 7.4982643127441405e-06, 4.224777221679687e-05, 0.0004911446571350098, 0.006098811626434326, 0.07503232479095459, 0.8873195886611939]\n",
      "numpy average time [3.7424564361572265e-05, 3.456830978393555e-05, 5.107641220092773e-05, 0.0001467752456665039, 0.0010332679748535157, 0.011625254154205322, 0.12503695487976074]\n",
      "randomized average time [3.897283495086984e-05, 3.7000179290771484e-05, 7.152795791625976e-05, 0.00032364368438720704, 0.0023274660110473634, 0.02298102617263794, 0.21079514503479005]\n",
      "total time in minutes 9\n"
     ]
    }
   ],
   "source": [
    "\n",
    "\n",
    "start = time()\n",
    "check_results()\n",
    "check_fails()\n",
    "check_time_performance()\n",
    "finish = time()\n",
    "\n",
    "print(\"total time in minutes\", int((finish - start) / 60))"
   ]
  }
 ],
 "metadata": {
  "kernelspec": {
   "display_name": "Python 3",
   "language": "python",
   "name": "python3"
  },
  "language_info": {
   "codemirror_mode": {
    "name": "ipython",
    "version": 3
   },
   "file_extension": ".py",
   "mimetype": "text/x-python",
   "name": "python",
   "nbconvert_exporter": "python",
   "pygments_lexer": "ipython3",
   "version": "3.6.1"
  }
 },
 "nbformat": 4,
 "nbformat_minor": 2
}
