{
 "cells": [
  {
   "cell_type": "markdown",
   "metadata": {
    "collapsed": true
   },
   "source": [
    "http://grammar.yourdictionary.com/parts-of-speech/adjectives/list-of-adjective-words.html\n"
   ]
  },
  {
   "cell_type": "code",
   "execution_count": 17,
   "metadata": {
    "collapsed": true
   },
   "outputs": [],
   "source": [
    "import numpy as np\n",
    "from nltk.corpus import stopwords"
   ]
  },
  {
   "cell_type": "code",
   "execution_count": 20,
   "metadata": {},
   "outputs": [],
   "source": [
    "swords = stopwords.words('english')"
   ]
  },
  {
   "cell_type": "code",
   "execution_count": 2,
   "metadata": {
    "collapsed": true
   },
   "outputs": [],
   "source": [
    "graph = np.array([[1,2,1],\n",
    "                 [1,3,1],\n",
    "                 [2,3,1],\n",
    "                 [2,4,2]])"
   ]
  },
  {
   "cell_type": "code",
   "execution_count": 3,
   "metadata": {
    "collapsed": true
   },
   "outputs": [],
   "source": [
    "graph = np.array([[1,2,1],\n",
    "                 [1,3,1],\n",
    "                 [4,1,1],\n",
    "                 [2,3,1],\n",
    "                 [3,4,1],\n",
    "                 [3,5,1],\n",
    "                 [3,6,1],\n",
    "                 [4,5,1],\n",
    "                 [6,4,1],\n",
    "                 [6,5,1],\n",
    "                 [5,2,1],\n",
    "                 [2,4,2]])"
   ]
  },
  {
   "cell_type": "code",
   "execution_count": 22,
   "metadata": {
    "collapsed": true
   },
   "outputs": [],
   "source": [
    "test_sentences=['april in paris lyrics']"
   ]
  },
  {
   "cell_type": "code",
   "execution_count": 23,
   "metadata": {
    "collapsed": true
   },
   "outputs": [],
   "source": [
    "def rnd_edg_sel(graph):\n",
    "    rng = graph[:,2].sum()\n",
    "    rnd_pt = np.random.random()*rng\n",
    "    cml_sum=0\n",
    "    for edge in graph:\n",
    "        cml_sum += edge[2]\n",
    "        if cml_sum>rnd_pt:\n",
    "            return edge[np.newaxis,:]\n",
    "\n",
    "def remove_edge(graph, edge):\n",
    "    new_graph = np.empty((1, graph.shape[1]), dtype=int)\n",
    "    for e in graph:\n",
    "        ed = e[np.newaxis,:]\n",
    "        if (ed == edge).all():\n",
    "            continue\n",
    "        new_graph = np.append(new_graph, ed, axis=0)\n",
    "    return new_graph[1:]\n",
    "\n",
    "def remove_rel_edges(graph, t):\n",
    "    new_graph = np.empty((1, graph.shape[1]), dtype=int)\n",
    "    for e in graph:\n",
    "        ed = e[np.newaxis,:]\n",
    "        if e[0] == t or e[1] == t:\n",
    "            continue\n",
    "        new_graph = np.append(new_graph, ed, axis=0)\n",
    "    return new_graph[1:]\n",
    "\n",
    "def are_connected(graph, u, v):\n",
    "    for e in graph:\n",
    "        if u in e[:2] and v in e[:2]:\n",
    "            return True\n",
    "    return False\n",
    "\n",
    "def MaxCMC(graph):\n",
    "    p_graph = np.empty((1,graph.shape[1]), dtype=int)\n",
    "    removed_v = np.array([])\n",
    "    while graph.size > 0:\n",
    "        e = rnd_edg_sel(graph)\n",
    "#         print('selected e =', e)\n",
    "        u = e[0,0]\n",
    "        v = e[0,1]\n",
    "        removed_v = np.append(removed_v, np.array([u,v]))\n",
    "        p_graph = np.append(p_graph, e, axis=0)\n",
    "        graph = remove_edge(graph, e)\n",
    "#         print('remaining ', graph)\n",
    "        for t in graph[:,:2].flatten():\n",
    "            if t in removed_v: #t==u or t==v:\n",
    "                continue\n",
    "            if not are_connected(graph, t, v) or not are_connected(graph, t, u):\n",
    "#                 print('remoce ', t)\n",
    "                graph = remove_rel_edges(graph, t)\n",
    "#         break\n",
    "    return p_graph[1:], p_graph[1:,2].mean()\n",
    "\n",
    "clique, avg_w = MaxCMC(graph)\n",
    "print('cl =', clique)\n",
    "print('unq =', np.unique(clique[:,:2]))\n",
    "print('avg_w =', avg_w)\n"
   ]
  }
 ],
 "metadata": {
  "kernelspec": {
   "display_name": "Python 3",
   "language": "python",
   "name": "python3"
  },
  "language_info": {
   "codemirror_mode": {
    "name": "ipython",
    "version": 3
   },
   "file_extension": ".py",
   "mimetype": "text/x-python",
   "name": "python",
   "nbconvert_exporter": "python",
   "pygments_lexer": "ipython3",
   "version": "3.6.3"
  }
 },
 "nbformat": 4,
 "nbformat_minor": 2
}
