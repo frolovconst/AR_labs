{
 "cells": [
  {
   "cell_type": "code",
   "execution_count": 137,
   "metadata": {
    "collapsed": true
   },
   "outputs": [],
   "source": [
    "import numpy as np"
   ]
  },
  {
   "cell_type": "code",
   "execution_count": 363,
   "metadata": {
    "collapsed": true
   },
   "outputs": [],
   "source": [
    "data = np.loadtxt('facebook/3437.edges', dtype=int)\n",
    "data.shape\n",
    "vx = np.sort(np.unique(data)).astype(int)\n",
    "m = data.shape[0]\n",
    "n = vx.size\n",
    "d = 2*m/n\n",
    "p = 1-1/d"
   ]
  },
  {
   "cell_type": "code",
   "execution_count": 364,
   "metadata": {},
   "outputs": [],
   "source": [
    "def max_independent_graph(vx, edges):\n",
    "    result = np.array([], dtype=int)\n",
    "    for v in vx:\n",
    "        if np.random.random()>p:\n",
    "            result = np.append(result, v)\n",
    "        else:\n",
    "            edges = edges[(edges[:,0]!=v) & (edges[:,1]!=v)]\n",
    "    v=0\n",
    "    edges.sort(axis=1)\n",
    "    edges.sort(axis=0)\n",
    "    for edge in edges:\n",
    "        if(edge[0]==v):\n",
    "            continue\n",
    "        else:\n",
    "            v=edge[0]\n",
    "            result = result[result!=edge[np.random.randint(2)]]\n",
    "    return result, result.size"
   ]
  },
  {
   "cell_type": "code",
   "execution_count": 393,
   "metadata": {},
   "outputs": [
    {
     "name": "stdout",
     "output_type": "stream",
     "text": [
      "size = 13\n",
      "result = [3531 3574 3580 3665 3684 3685 3737 3758 3823 3925 3932 3949 3962]\n"
     ]
    }
   ],
   "source": [
    "result, size = max_independent_graph(vx, data)\n",
    "print('size =', size)\n",
    "print('result =', result)"
   ]
  },
  {
   "cell_type": "code",
   "execution_count": 366,
   "metadata": {},
   "outputs": [
    {
     "name": "stdout",
     "output_type": "stream",
     "text": [
      "size = 12\n",
      "result = [3526 3527 3557 3726 3728 3775 3832 3868 3877 3915 3918 3939]\n"
     ]
    }
   ],
   "source": [
    "result, size = max_independent_graph(vx, data)\n",
    "print('size =', size)\n",
    "print('result =', result)"
   ]
  },
  {
   "cell_type": "code",
   "execution_count": null,
   "metadata": {
    "collapsed": true
   },
   "outputs": [],
   "source": []
  }
 ],
 "metadata": {
  "kernelspec": {
   "display_name": "Python 3",
   "language": "python",
   "name": "python3"
  },
  "language_info": {
   "codemirror_mode": {
    "name": "ipython",
    "version": 3
   },
   "file_extension": ".py",
   "mimetype": "text/x-python",
   "name": "python",
   "nbconvert_exporter": "python",
   "pygments_lexer": "ipython3",
   "version": "3.6.3"
  }
 },
 "nbformat": 4,
 "nbformat_minor": 2
}
