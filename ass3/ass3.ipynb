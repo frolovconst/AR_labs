{
 "cells": [
  {
   "cell_type": "code",
   "execution_count": 419,
   "metadata": {},
   "outputs": [],
   "source": [
    "import numpy as np\n",
    "from time import time\n",
    "import matplotlib.pyplot as plt"
   ]
  },
  {
   "cell_type": "code",
   "execution_count": 328,
   "metadata": {},
   "outputs": [],
   "source": [
    "class Graph:\n",
    "    def __init__(self):\n",
    "        self.vertices = set()\n",
    "        self.edges = {}\n",
    "    \n",
    "    def add_vertex(self, v):\n",
    "        self.vertices.add(v)\n",
    "    \n",
    "    def add_edge(self, src, dst):\n",
    "        if src in self.edges:\n",
    "            self.edges[src] += [dst,]\n",
    "        else:\n",
    "            self.edges[src] = [dst,]\n",
    "        if dst in self.edges:\n",
    "            self.edges[dst] += [src,]\n",
    "        else:\n",
    "            self.edges[dst] = [src,]"
   ]
  },
  {
   "cell_type": "code",
   "execution_count": 380,
   "metadata": {},
   "outputs": [],
   "source": [
    "data = np.loadtxt('data/p2p-Gnutella06.txt', delimiter='\\t', skiprows=1, dtype=int)\n",
    "\n",
    "g = Graph()\n",
    "for vertex in np.unique(data):\n",
    "    g.add_vertex(vertex)\n",
    "for row in data:\n",
    "    g.add_edge(row[0], row[1])"
   ]
  },
  {
   "cell_type": "code",
   "execution_count": 330,
   "metadata": {
    "collapsed": true
   },
   "outputs": [],
   "source": [
    "# graph of reduced size for debugging purposes\n",
    "subgraph = data[np.where((data[:,0]<22) & (data[:,1]<22))[0]]\n",
    "subgraph[1,0]=1\n",
    "subgraph[2,0]=2\n",
    "g = Graph()\n",
    "for vertex in np.unique(subgraph):\n",
    "    g.add_vertex(vertex)\n",
    "for row in subgraph:\n",
    "    g.add_edge(row[0], row[1])"
   ]
  },
  {
   "cell_type": "code",
   "execution_count": 331,
   "metadata": {
    "collapsed": true
   },
   "outputs": [],
   "source": [
    "def find_argmin(d):\n",
    "    mini = 2**32\n",
    "    for i, a_d in enumerate(d):\n",
    "        if a_d < mini:\n",
    "            idx = i\n",
    "            mini = a_d\n",
    "    return idx"
   ]
  },
  {
   "cell_type": "code",
   "execution_count": 332,
   "metadata": {
    "collapsed": true
   },
   "outputs": [],
   "source": [
    "def actual_distance(g, v):\n",
    "  d = {v: 0}\n",
    "  path = {}\n",
    "\n",
    "  vertices = set(g.vertices)\n",
    "\n",
    "  while vertices: \n",
    "    min_vrt = None\n",
    "    for vrt in vertices:\n",
    "      if vrt in d:\n",
    "        if min_vrt is None:\n",
    "          min_vrt = vrt\n",
    "        elif d[vrt] < d[min_vrt]:\n",
    "          min_vrt = vrt\n",
    "\n",
    "    if min_vrt is None:\n",
    "      break\n",
    "\n",
    "    vertices.remove(min_vrt)\n",
    "    crnt_weight = d[min_vrt]\n",
    "\n",
    "    for a in g.edges[min_vrt]:\n",
    "      weight = crnt_weight + 1\n",
    "      if a not in d or weight < d[a]:\n",
    "        d[a] = weight\n",
    "        path[a] = min_vrt\n",
    "  return d"
   ]
  },
  {
   "cell_type": "code",
   "execution_count": 333,
   "metadata": {
    "collapsed": true
   },
   "outputs": [],
   "source": [
    "def iBall(graph, src, max_d):\n",
    "    result = {src: 0}\n",
    "    queue = [src]\n",
    "    d = 1\n",
    "    current_level_degree = 1\n",
    "    next_level_degree = 0\n",
    "    while queue:\n",
    "        crnt_vrt = queue.pop(0)\n",
    "        current_level_degree -= 1\n",
    "        if d >= max_d:\n",
    "            del result[src]\n",
    "            return result\n",
    "        for neigh in graph.edges[crnt_vrt]:\n",
    "            if neigh not in result:\n",
    "                result[neigh] = d\n",
    "                queue.append(neigh)\n",
    "                next_level_degree += 1\n",
    "        if current_level_degree == 0:\n",
    "            current_level_degree = next_level_degree\n",
    "            next_level_degree = 0\n",
    "            d += 1\n",
    "    del result[src]\n",
    "    return result"
   ]
  },
  {
   "cell_type": "code",
   "execution_count": 382,
   "metadata": {},
   "outputs": [],
   "source": [
    "class DistanceOracle:\n",
    "    def __init__(self, g):\n",
    "        n = len(g.vertices)\n",
    "        threshold = n**-.5\n",
    "        np.random.seed(440)\n",
    "        self.L = [v for v in g.vertices if np.random.random() < threshold]\n",
    "        self.L_dct = {}\n",
    "        self.H_dct = {}\n",
    "        for L in self.L:\n",
    "            self.L_dct[L] = actual_distance(g, L)\n",
    "        for vrt in g.vertices:\n",
    "            if vrt not in self.L:\n",
    "                n_L, min_L_u = self.find_nearest_L(vrt)\n",
    "                self.H_dct[vrt] = iBall(g, vrt, min_L_u)\n",
    "        print('init complete')\n",
    "                \n",
    "    def find_nearest_L(self, u):\n",
    "        min_L_u = 2**32\n",
    "        for L in self.L:\n",
    "            L_u = self.L_dct[L][u]\n",
    "            if L_u < min_L_u:\n",
    "                min_L_u = L_u\n",
    "                nearest_L = L\n",
    "        return nearest_L, min_L_u\n",
    "                \n",
    "    def query_for_distance(self, u, v):\n",
    "        if v in self.L_dct:\n",
    "            return self.L_dct[v][u]\n",
    "        elif u in self.L_dct:\n",
    "            return self.L_dct[u][v]\n",
    "        elif v in self.H_dct[u]:\n",
    "            return self.H_dct[u][v]\n",
    "        else:\n",
    "            L, d = self.find_nearest_L(u)\n",
    "            d = d + self.L_dct[L][v]\n",
    "            return d"
   ]
  },
  {
   "cell_type": "code",
   "execution_count": 383,
   "metadata": {},
   "outputs": [
    {
     "name": "stdout",
     "output_type": "stream",
     "text": [
      "djk dist = 4, time = 6.872175693511963\n",
      "init complete\n",
      "thurp dist = 6, time = 543.4879741668701\n"
     ]
    }
   ],
   "source": [
    "u, v=3, 19\n",
    "start_t = time()\n",
    "djk = actual_distance(g, u)\n",
    "print('djk dist = {}, time = {}'.format(djk[v], time()- start_t))\n",
    "start_t = time()\n",
    "DO = DistanceOracle(g)\n",
    "print('thurp dist = {}, time = {}'.format(DO.query_for_distance(u,v), time()- start_t))"
   ]
  },
  {
   "cell_type": "code",
   "execution_count": 409,
   "metadata": {},
   "outputs": [
    {
     "name": "stdout",
     "output_type": "stream",
     "text": [
      "djk dist = 4, time = 6.97613000869751\n",
      "thurp dist = 6, time = 0.00011157989501953125\n"
     ]
    }
   ],
   "source": [
    "u, v=3, 19\n",
    "start_t = time()\n",
    "djk = actual_distance(g, u)\n",
    "print('djk dist = {}, time = {}'.format(djk[v], time()- start_t))\n",
    "start_t = time()\n",
    "dst = DO.query_for_distance(u,v)\n",
    "print('thurp dist = {}, time = {}'.format(dst, time()- start_t))"
   ]
  },
  {
   "cell_type": "code",
   "execution_count": 474,
   "metadata": {},
   "outputs": [
    {
     "name": "stdout",
     "output_type": "stream",
     "text": [
      "thurp dist = 5, time = 0.18351101875305176\n"
     ]
    }
   ],
   "source": [
    "start_t = time()\n",
    "histogram = []\n",
    "for v in g.vertices-set([u]):\n",
    "    dst = DO.query_for_distance(u,v)\n",
    "    histogram.append(dst/djk[v])\n",
    "print('thurp dist = {}, time = {}'.format(dst, time()- start_t)) "
   ]
  },
  {
   "cell_type": "code",
   "execution_count": 519,
   "metadata": {},
   "outputs": [
    {
     "name": "stdout",
     "output_type": "stream",
     "text": [
      "thurp dist = 1.4, time = 737.5442988872528\n"
     ]
    }
   ],
   "source": [
    "test_v = np.random.choice(len(g.vertices), 100, replace=False)\n",
    "hist_dct = {}\n",
    "visited = []\n",
    "for i in range(len(bins)):\n",
    "    hist_dct[i] = 0\n",
    "start_t = time()\n",
    "for u in test_v:\n",
    "    djk = actual_distance(g, u)\n",
    "    for v in g.vertices-set([u]):\n",
    "        if v in visited:\n",
    "            continue\n",
    "        dst = DO.query_for_distance(u,v) / djk[v]\n",
    "        flag = True\n",
    "        for i, abin in enumerate(bins[:-1]):\n",
    "            if dst<bins[i+1]:\n",
    "                hist_dct[i] += 1\n",
    "                flag = False\n",
    "                break\n",
    "        if flag:\n",
    "            hist_dct[i+1] += 1\n",
    "    visited.append(u)\n",
    "print('thurp dist = {}, time = {}'.format(dst, time()- start_t)) "
   ]
  },
  {
   "cell_type": "code",
   "execution_count": 527,
   "metadata": {},
   "outputs": [
    {
     "data": {
      "image/png": "[encoded data removed]",
      "text/plain": [
       "<matplotlib.figure.Figure at 0x7f8b8283aeb8>"
      ]
     },
     "metadata": {},
     "output_type": "display_data"
    }
   ],
   "source": [
    "plt.figure(figsize=[15,10])\n",
    "plt.bar(bins, hist_dct.values(), align='edge', edgecolor='black', width=.25)\n",
    "plt.xlabel('stretch')\n",
    "plt.ylabel('number of vertices')\n",
    "plt.grid()\n",
    "plt.show()"
   ]
  },
  {
   "cell_type": "code",
   "execution_count": 524,
   "metadata": {},
   "outputs": [],
   "source": [
    "plt.bar(bins, hist_dct.values(), align='edge', edgecolor='black', width=.25)\n",
    "plt.xlabel('stretch')\n",
    "plt.ylabel('number of vertices')\n",
    "plt.grid()\n",
    "plt.savefig('hist.png', dpi=600)"
   ]
  }
 ],
 "metadata": {
  "kernelspec": {
   "display_name": "Python 3",
   "language": "python",
   "name": "python3"
  },
  "language_info": {
   "codemirror_mode": {
    "name": "ipython",
    "version": 3
   },
   "file_extension": ".py",
   "mimetype": "text/x-python",
   "name": "python",
   "nbconvert_exporter": "python",
   "pygments_lexer": "ipython3",
   "version": "3.6.3"
  }
 },
 "nbformat": 4,
 "nbformat_minor": 2
}
